{
 "cells": [
  {
   "cell_type": "code",
   "execution_count": 55,
   "id": "aafa4bb2",
   "metadata": {},
   "outputs": [],
   "source": [
    "import numpy as np\n",
    "import pandas as pd\n",
    "import matplotlib.pyplot as plt\n",
    "from sklearn.model_selection import train_test_split\n",
    "from sklearn.preprocessing import StandardScaler\n",
    "from sklearn.metrics import accuracy_score\n",
    "from sklearn.tree import plot_tree\n",
    "from sklearn.model_selection import GridSearchCV\n",
    "from sklearn.linear_model import LogisticRegression\n",
    "from sklearn.tree import DecisionTreeClassifier\n",
    "from sklearn.ensemble import RandomForestClassifier\n",
    "import joblib"
   ]
  },
  {
   "cell_type": "code",
   "execution_count": 102,
   "id": "acf609d3",
   "metadata": {},
   "outputs": [],
   "source": [
    "np.random.seed(12)"
   ]
  },
  {
   "cell_type": "code",
   "execution_count": 126,
   "id": "e63d9114",
   "metadata": {},
   "outputs": [],
   "source": [
    "tmp_speed1 = np.random.randint(0, 3, size=10000)\n",
    "tmp_speed2 = np.random.randint(12, 40, size=10000)\n",
    "tmp_speed2 = np.random.randint(0, 40, size=20000)\n",
    "\n",
    "tmp_speed11 = np.random.randint(12, 40, size=10000)\n",
    "tmp_speed22 = np.random.randint(0, 3, size=10000)\n",
    "tmp_speed33 = np.random.randint(0, 40, size=20000)\n",
    "\n",
    "\n",
    "tilt1 = np.random.randint(0, 200, size=10000)\n",
    "tilt2 = np.random.randint(0, 200, size=10000)\n",
    "tilt3 = np.random.randint(0, 500, size=20000)\n",
    "\n",
    "speed1 = np.concatenate((tmp_speed1, tmp_speed2, tmp_speed3))\n",
    "speed2 = np.concatenate((tmp_speed11, tmp_speed22, tmp_speed33))\n",
    "tilt = np.concatenate((tilt1, tilt2, tilt3))"
   ]
  },
  {
   "cell_type": "code",
   "execution_count": 127,
   "id": "11c9b9df",
   "metadata": {},
   "outputs": [],
   "source": [
    "data = []\n",
    "for i in zip(speed1, speed2, tilt):\n",
    "    data.append(list(i))\n",
    "\n",
    "data = np.array(data)"
   ]
  },
  {
   "cell_type": "code",
   "execution_count": 128,
   "id": "d54ab910",
   "metadata": {},
   "outputs": [],
   "source": [
    "label = []\n",
    "for i in data:\n",
    "    if i[0] >= 12 and i[1] <= 3 and i[2] <= 200:\n",
    "        label.append(1)\n",
    "    elif i[0] <=3 and i[1] >= 12 and i[2] <= 200:\n",
    "        label.append(1)\n",
    "    else:\n",
    "        label.append(0)\n",
    "\n",
    "label = np.array(label)\n"
   ]
  },
  {
   "cell_type": "code",
   "execution_count": 129,
   "id": "7ba86f7b",
   "metadata": {},
   "outputs": [
    {
     "data": {
      "text/html": [
       "<div>\n",
       "<style scoped>\n",
       "    .dataframe tbody tr th:only-of-type {\n",
       "        vertical-align: middle;\n",
       "    }\n",
       "\n",
       "    .dataframe tbody tr th {\n",
       "        vertical-align: top;\n",
       "    }\n",
       "\n",
       "    .dataframe thead th {\n",
       "        text-align: right;\n",
       "    }\n",
       "</style>\n",
       "<table border=\"1\" class=\"dataframe\">\n",
       "  <thead>\n",
       "    <tr style=\"text-align: right;\">\n",
       "      <th></th>\n",
       "      <th>speed1</th>\n",
       "      <th>speed2</th>\n",
       "      <th>tilt</th>\n",
       "      <th>label</th>\n",
       "    </tr>\n",
       "  </thead>\n",
       "  <tbody>\n",
       "    <tr>\n",
       "      <th>0</th>\n",
       "      <td>1</td>\n",
       "      <td>16</td>\n",
       "      <td>39</td>\n",
       "      <td>1</td>\n",
       "    </tr>\n",
       "    <tr>\n",
       "      <th>1</th>\n",
       "      <td>2</td>\n",
       "      <td>27</td>\n",
       "      <td>4</td>\n",
       "      <td>1</td>\n",
       "    </tr>\n",
       "    <tr>\n",
       "      <th>2</th>\n",
       "      <td>2</td>\n",
       "      <td>36</td>\n",
       "      <td>152</td>\n",
       "      <td>1</td>\n",
       "    </tr>\n",
       "    <tr>\n",
       "      <th>3</th>\n",
       "      <td>1</td>\n",
       "      <td>17</td>\n",
       "      <td>17</td>\n",
       "      <td>1</td>\n",
       "    </tr>\n",
       "    <tr>\n",
       "      <th>4</th>\n",
       "      <td>0</td>\n",
       "      <td>15</td>\n",
       "      <td>194</td>\n",
       "      <td>1</td>\n",
       "    </tr>\n",
       "    <tr>\n",
       "      <th>...</th>\n",
       "      <td>...</td>\n",
       "      <td>...</td>\n",
       "      <td>...</td>\n",
       "      <td>...</td>\n",
       "    </tr>\n",
       "    <tr>\n",
       "      <th>39995</th>\n",
       "      <td>24</td>\n",
       "      <td>12</td>\n",
       "      <td>112</td>\n",
       "      <td>0</td>\n",
       "    </tr>\n",
       "    <tr>\n",
       "      <th>39996</th>\n",
       "      <td>17</td>\n",
       "      <td>25</td>\n",
       "      <td>438</td>\n",
       "      <td>0</td>\n",
       "    </tr>\n",
       "    <tr>\n",
       "      <th>39997</th>\n",
       "      <td>21</td>\n",
       "      <td>26</td>\n",
       "      <td>148</td>\n",
       "      <td>0</td>\n",
       "    </tr>\n",
       "    <tr>\n",
       "      <th>39998</th>\n",
       "      <td>39</td>\n",
       "      <td>12</td>\n",
       "      <td>237</td>\n",
       "      <td>0</td>\n",
       "    </tr>\n",
       "    <tr>\n",
       "      <th>39999</th>\n",
       "      <td>24</td>\n",
       "      <td>32</td>\n",
       "      <td>185</td>\n",
       "      <td>0</td>\n",
       "    </tr>\n",
       "  </tbody>\n",
       "</table>\n",
       "<p>40000 rows × 4 columns</p>\n",
       "</div>"
      ],
      "text/plain": [
       "       speed1  speed2  tilt  label\n",
       "0           1      16    39      1\n",
       "1           2      27     4      1\n",
       "2           2      36   152      1\n",
       "3           1      17    17      1\n",
       "4           0      15   194      1\n",
       "...       ...     ...   ...    ...\n",
       "39995      24      12   112      0\n",
       "39996      17      25   438      0\n",
       "39997      21      26   148      0\n",
       "39998      39      12   237      0\n",
       "39999      24      32   185      0\n",
       "\n",
       "[40000 rows x 4 columns]"
      ]
     },
     "execution_count": 129,
     "metadata": {},
     "output_type": "execute_result"
    }
   ],
   "source": [
    "datas = pd.DataFrame({\n",
    "    'speed1':speed1,\n",
    "    'speed2':speed2,\n",
    "    'tilt':tilt,\n",
    "    'label':label\n",
    "})\n",
    "datas"
   ]
  },
  {
   "cell_type": "code",
   "execution_count": 130,
   "id": "23e4c4b7",
   "metadata": {},
   "outputs": [],
   "source": [
    "x_train, x_test, y_train, y_test = train_test_split(data, label, \n",
    "                                                      test_size=0.2,\n",
    "                                                      random_state=81,\n",
    "                                                      shuffle=True,\n",
    "                                                      stratify=label)"
   ]
  },
  {
   "cell_type": "code",
   "execution_count": 131,
   "id": "47774717",
   "metadata": {},
   "outputs": [],
   "source": [
    "ss = StandardScaler()\n",
    "ss.fit(x_train)\n",
    "x_train_scaled= ss.transform(x_train)\n",
    "x_test_scaled= ss.transform(x_test)"
   ]
  },
  {
   "cell_type": "code",
   "execution_count": 132,
   "id": "b620284a",
   "metadata": {},
   "outputs": [],
   "source": [
    "params = {'min_impurity_decrease': [0.0001, 0.0002, 0.0003, 0.0004, 0.0005]}"
   ]
  },
  {
   "cell_type": "code",
   "execution_count": 134,
   "id": "7fc12626",
   "metadata": {},
   "outputs": [
    {
     "name": "stdout",
     "output_type": "stream",
     "text": [
      "0.76175\n"
     ]
    }
   ],
   "source": [
    "lr = LogisticRegression()\n",
    "lr.fit(x_train_scaled, y_train)\n",
    "\n",
    "lr_pred=lr.predict(x_test_scaled)\n",
    "print(accuracy_score(y_test, lr_pred))"
   ]
  },
  {
   "cell_type": "code",
   "execution_count": 133,
   "id": "6d66be37",
   "metadata": {},
   "outputs": [
    {
     "name": "stdout",
     "output_type": "stream",
     "text": [
      "0.999875\n"
     ]
    }
   ],
   "source": [
    "gs_dt= GridSearchCV(DecisionTreeClassifier(random_state=221), params, n_jobs=-1)\n",
    "gs_dt.fit(x_train_scaled, y_train)\n",
    "dt_clf = gs_dt.best_estimator_\n",
    "\n",
    "dt_clf_pred=dt_clf.predict(x_test_scaled)\n",
    "print(accuracy_score(y_test, dt_clf_pred))"
   ]
  },
  {
   "cell_type": "code",
   "execution_count": 137,
   "id": "52e7f740",
   "metadata": {},
   "outputs": [
    {
     "name": "stdout",
     "output_type": "stream",
     "text": [
      "0.99875\n"
     ]
    }
   ],
   "source": [
    "gs_rf= GridSearchCV(RandomForestClassifier(random_state=221), params, n_jobs=-1)\n",
    "gs_rf.fit(x_train_scaled, y_train)\n",
    "rf_clf = gs_rf.best_estimator_\n",
    "\n",
    "rf_clf_pred=rf_clf.predict(x_test_scaled)\n",
    "print(accuracy_score(y_test, rf_clf_pred))"
   ]
  },
  {
   "cell_type": "code",
   "execution_count": 136,
   "id": "39e793fb",
   "metadata": {},
   "outputs": [
    {
     "name": "stdout",
     "output_type": "stream",
     "text": [
      "[[20, 0, 180]]\n",
      "[1]\n",
      "[0]\n"
     ]
    }
   ],
   "source": [
    "temp = [[]]\n",
    "temp[0].append(20)\n",
    "temp[0].append(0)\n",
    "temp[0].append(180)\n",
    "\n",
    "print(temp)\n",
    "temp_scaled=ss.transform(temp)\n",
    "dt_clf_pred=dt_clf.predict(temp_scaled)\n",
    "lr_pred=lr.predict(temp_scaled)\n",
    "print(dt_clf_pred)"
   ]
  },
  {
   "cell_type": "code",
   "execution_count": 140,
   "id": "619d4716",
   "metadata": {},
   "outputs": [
    {
     "data": {
      "text/plain": [
       "['./dt_clf.pkl']"
      ]
     },
     "execution_count": 140,
     "metadata": {},
     "output_type": "execute_result"
    }
   ],
   "source": [
    "joblib.dump(dt_clf, './dt_clf.pkl')"
   ]
  },
  {
   "cell_type": "code",
   "execution_count": 141,
   "id": "878d281a",
   "metadata": {},
   "outputs": [
    {
     "data": {
      "text/plain": [
       "['./ss.pkl']"
      ]
     },
     "execution_count": 141,
     "metadata": {},
     "output_type": "execute_result"
    }
   ],
   "source": [
    "joblib.dump(ss, './ss.pkl')"
   ]
  },
  {
   "cell_type": "code",
   "execution_count": null,
   "id": "0e5a92bf",
   "metadata": {},
   "outputs": [],
   "source": []
  }
 ],
 "metadata": {
  "kernelspec": {
   "display_name": "Python 3 (ipykernel)",
   "language": "python",
   "name": "python3"
  },
  "language_info": {
   "codemirror_mode": {
    "name": "ipython",
    "version": 3
   },
   "file_extension": ".py",
   "mimetype": "text/x-python",
   "name": "python",
   "nbconvert_exporter": "python",
   "pygments_lexer": "ipython3",
   "version": "3.9.16"
  }
 },
 "nbformat": 4,
 "nbformat_minor": 5
}
